{
 "cells": [
  {
   "cell_type": "code",
   "execution_count": 1,
   "metadata": {},
   "outputs": [],
   "source": [
    "import pandas as pd\n",
    "import numpy as np\n",
    "from numpy import random"
   ]
  },
  {
   "cell_type": "code",
   "execution_count": 2,
   "metadata": {},
   "outputs": [],
   "source": [
    "# Create the list of file names: \n",
    "filenames=['PS2000_BF10_Prob2_q0.5_a1_0.95_b1_1.25_a2_1.15_b2_0.90_cl_1.28_R0_soln.txt',\n",
    "           'PS2000_BF10_Prob2_q0.5_a1_0.95_b1_1.25_a2_1.15_b2_0.90_cl_1.64_R0_soln.txt',\n",
    "           'PS2000_BF10_Prob2_q0.5_a1_0.95_b1_1.25_a2_1.15_b2_0.90_cl_1.28_R1_soln.txt',\n",
    "           'PS2000_BF10_Prob2_q0.5_a1_0.95_b1_1.25_a2_1.15_b2_0.90_cl_1.64_R1_soln.txt',\n",
    "           'PS2000_BF10_Prob2_q0.5_a1_0.95_b1_1.25_a2_1.15_b2_0.90_cl_1.28_R2_soln.txt',\n",
    "           'PS2000_BF10_Prob2_q0.5_a1_0.95_b1_1.25_a2_1.15_b2_0.90_cl_1.64_R2_soln.txt',\n",
    "           'PS2000_BF10_Prob2_q0.5_a1_0.95_b1_1.25_a2_1.15_b2_0.90_cl_1.28_R3_soln.txt',\n",
    "           'PS2000_BF10_Prob2_q0.5_a1_0.95_b1_1.25_a2_1.15_b2_0.90_cl_1.64_R3_soln.txt',\n",
    "           'PS2000_BF10_Prob2_q0.5_a1_0.95_b1_1.25_a2_1.15_b2_0.90_cl_1.28_R4_soln.txt',\n",
    "           'PS2000_BF10_Prob2_q0.5_a1_0.95_b1_1.25_a2_1.15_b2_0.90_cl_1.64_R4_soln.txt']\n",
    "dataframes = []\n",
    "for filename in filenames:\n",
    "    dataframes.append(pd.read_table(filename,header=None))"
   ]
  },
  {
   "cell_type": "code",
   "execution_count": null,
   "metadata": {},
   "outputs": [],
   "source": [
    "# Create the list of file names: \n",
    "filenames=['PS1000_BF20_Prob2_q0.5_a1_0.95_b1_1.25_a2_1.15_b2_0.90_cl_1.28_R1_soln.txt']\n",
    "dataframes = []\n",
    "for filename in filenames:\n",
    "    dataframes.append(pd.read_table(filename,header=None))"
   ]
  },
  {
   "cell_type": "code",
   "execution_count": null,
   "metadata": {},
   "outputs": [],
   "source": [
    "#dataframes[0] #first data frame\n",
    "#data\n",
    "#0 project index,  1 xi (selection or not), 2 pi(cancelllation prob), 3 bi (project budget)"
   ]
  },
  {
   "cell_type": "code",
   "execution_count": null,
   "metadata": {},
   "outputs": [],
   "source": [
    "#data[3].sum() #total sum of all projects"
   ]
  },
  {
   "cell_type": "code",
   "execution_count": 3,
   "metadata": {},
   "outputs": [],
   "source": [
    "bf=0.1  #10 means 0.1, 20 means 0.2\n",
    "q=0.5 #underutilization prob,\n",
    "\n",
    "alfa1=0.95 #do not forget rau 1 and rau 2 truncation bounds\n",
    "beta1=1.25\n",
    "alfa2=1.15\n",
    "beta2=0.9\n",
    "\n",
    "rau1=0.4\n",
    "rau2=0.7\n",
    "\n",
    "#truncated sampling\n",
    "random.seed(1)\n",
    "truncated_beta1=[] #define an empty list for truncated beta for cancelletions\n",
    "for i in range(0,1000001): #1,000,000 sampling\n",
    "    r=round(np.random.beta(alfa1,beta1),4)\n",
    "    if r<=rau1: truncated_beta1.append(r)\n",
    "#print(truncated_beta1)\n",
    "\n",
    "\n",
    "truncated_beta2=[] #define an empty list for truncated beta for underspending\n",
    "for i in range(0,1000001):\n",
    "    r=round(np.random.beta(alfa2,beta2),4)\n",
    "    if r>=rau2: truncated_beta2.append(r)\n",
    "#print(truncated_beta2)"
   ]
  },
  {
   "cell_type": "code",
   "execution_count": 4,
   "metadata": {
    "scrolled": true
   },
   "outputs": [
    {
     "name": "stdout",
     "output_type": "stream",
     "text": [
      "0.9760    0.9698\n",
      "0.9921    0.9639\n",
      "0.9764    0.9691\n",
      "0.9918    0.9635\n",
      "0.9796    0.9701\n",
      "0.9941    0.9646\n",
      "0.9778    0.9698\n",
      "0.9918    0.9641\n",
      "0.9807    0.9702\n",
      "0.9936    0.9646\n"
     ]
    }
   ],
   "source": [
    "#every solution file (i.e.data) is assigned a dataframe and then read and simulated from dataframes\n",
    "for data in dataframes:\n",
    "    #project status assigment\n",
    "    #random.random generates uniformly distributed numbers btw 0,1 \n",
    "    #random.uniform generates uniformly distributed numbers btw low and high\n",
    "    num_of_replications=10000 #this is for simulation size\n",
    "    indicator=0 \n",
    "    confidence_level=0\n",
    "    utilization=0\n",
    "    avg_utilization=0\n",
    "\n",
    "    np.random.seed(1)\n",
    "    \n",
    "    for i in range(0,num_of_replications):\n",
    "        \n",
    "        #assign status in new col 4: 0 means cancelation, -1 means underutilization, 1 means exact spending\n",
    "        data[4]=data[2].map(lambda x: 0 if x >= np.random.random() else (-1 if q+x>=np.random.random() else 1))\n",
    "\n",
    "        #assign spending rate according to the status in new col5\n",
    "        #cancellation (i.e. 0) beta (0,tau1), underutilization (i.e. -1) beta (tau2,1), o/w 1 \n",
    "        data[5]=data[4].map(lambda x: truncated_beta1[random.randint(0,10000)] if x==0 else (truncated_beta2[random.randint(0,10000)] if x==-1 else 1))\n",
    "    \n",
    "        #compute total simulated spending by xi*bi*spending ratio (i.e. columns 1*3*5)\n",
    "        data[6]=data[1]*data[3]*data[5]\n",
    "\n",
    "        # check total used budget is less than or equal to available budget\n",
    "        #available budget is bf percent of total budget\n",
    "        #print(data[6].sum()) \n",
    "        #print(data[3].sum()*bf)\n",
    "        if data[6].sum()<=data[3].sum()*bf: indicator+=1\n",
    "\n",
    "        #compute budget utilization \n",
    "        utilization+=data[6].sum()/(data[3].sum()*bf)\n",
    "\n",
    "    #compute avg utilization and condifence level\n",
    "    avg_utilization=utilization/num_of_replications\n",
    "    confidence_level=indicator/num_of_replications\n",
    "    #print(\"confidence level is %0.4f and avg utilization is %0.4f\" % (confidence_level,avg_utilization))\n",
    "    print(\"%0.4f    %0.4f\" % (confidence_level,avg_utilization))"
   ]
  },
  {
   "cell_type": "code",
   "execution_count": null,
   "metadata": {},
   "outputs": [],
   "source": [
    "#data.drop([7],axis=1,inplace=True)\n",
    "data"
   ]
  },
  {
   "cell_type": "code",
   "execution_count": null,
   "metadata": {},
   "outputs": [],
   "source": [
    "data[3].sum()*bf#total sum of all projects"
   ]
  },
  {
   "cell_type": "code",
   "execution_count": null,
   "metadata": {},
   "outputs": [],
   "source": [
    "data[6].sum()"
   ]
  },
  {
   "cell_type": "code",
   "execution_count": null,
   "metadata": {},
   "outputs": [],
   "source": []
  }
 ],
 "metadata": {
  "kernelspec": {
   "display_name": "Python 3",
   "language": "python",
   "name": "python3"
  },
  "language_info": {
   "codemirror_mode": {
    "name": "ipython",
    "version": 3
   },
   "file_extension": ".py",
   "mimetype": "text/x-python",
   "name": "python",
   "nbconvert_exporter": "python",
   "pygments_lexer": "ipython3",
   "version": "3.6.5"
  }
 },
 "nbformat": 4,
 "nbformat_minor": 2
}
